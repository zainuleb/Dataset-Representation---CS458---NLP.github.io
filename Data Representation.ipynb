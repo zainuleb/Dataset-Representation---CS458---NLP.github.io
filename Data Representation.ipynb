{
 "cells": [
  {
   "cell_type": "code",
   "execution_count": 1,
   "metadata": {},
   "outputs": [],
   "source": [
    "import re\n",
    "from sklearn.feature_extraction.text import CountVectorizer\n",
    "\n",
    "corpus=open('Movies_TV.txt').read()"
   ]
  },
  {
   "cell_type": "code",
   "execution_count": 3,
   "metadata": {},
   "outputs": [],
   "source": [
    "#Removing first line.\n",
    "res=re.sub(r'Domain.*\\n','',corpus)\n",
    "data_list=res.split('\\t')"
   ]
  },
  {
   "cell_type": "code",
   "execution_count": 11,
   "metadata": {},
   "outputs": [],
   "source": [
    "#2) Structure with Frequency\n",
    "\n",
    "f_vect=CountVectorizer()\n",
    "F=f_vect.fit_transform(data_list)\n",
    "#print(f_vect.vocabulary_)"
   ]
  },
  {
   "cell_type": "code",
   "execution_count": 12,
   "metadata": {},
   "outputs": [],
   "source": [
    "#2) Structure with binary\n",
    "\n",
    "vect=CountVectorizer(binary=True)\n",
    "X=vect.fit_transform(data_list)\n",
    "#X.toarray()"
   ]
  },
  {
   "cell_type": "code",
   "execution_count": 13,
   "metadata": {},
   "outputs": [],
   "source": [
    "#2) Structure with tfidf based representation\n",
    "\n",
    "from sklearn.feature_extraction.text import TfidfTransformer\n",
    "vect2=TfidfTransformer()\n",
    "Y=vect2.fit_transform(X)\n",
    "#Y.toarray()"
   ]
  }
 ],
 "metadata": {
  "kernelspec": {
   "display_name": "Python 3",
   "language": "python",
   "name": "python3"
  },
  "language_info": {
   "codemirror_mode": {
    "name": "ipython",
    "version": 3
   },
   "file_extension": ".py",
   "mimetype": "text/x-python",
   "name": "python",
   "nbconvert_exporter": "python",
   "pygments_lexer": "ipython3",
   "version": "3.7.4"
  }
 },
 "nbformat": 4,
 "nbformat_minor": 2
}
